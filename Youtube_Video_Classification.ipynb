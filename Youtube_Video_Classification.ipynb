{
  "nbformat": 4,
  "nbformat_minor": 0,
  "metadata": {
    "colab": {
      "name": "Youtube_Video_Classification",
      "provenance": [],
      "authorship_tag": "ABX9TyO0FYTj+sA1BtFDwvUvuf+e",
      "include_colab_link": true
    },
    "kernelspec": {
      "name": "python3",
      "display_name": "Python 3"
    },
    "language_info": {
      "name": "python"
    }
  },
  "cells": [
    {
      "cell_type": "markdown",
      "metadata": {
        "id": "view-in-github",
        "colab_type": "text"
      },
      "source": [
        "<a href=\"https://colab.research.google.com/github/saishdesai23/Youtube-Video-Classification/blob/main/Youtube_Video_Classification.ipynb\" target=\"_parent\"><img src=\"https://colab.research.google.com/assets/colab-badge.svg\" alt=\"Open In Colab\"/></a>"
      ]
    },
    {
      "cell_type": "markdown",
      "source": [
        "# Youtube_video_classification\n",
        "## Author: Saish Desai\n",
        "## Dataset creation credits - https://www.kaggle.com/datasets/rajatrc1705/youtube-videos-dataset"
      ],
      "metadata": {
        "id": "1cHifAenAiWM"
      }
    },
    {
      "cell_type": "markdown",
      "source": [
        "**Connecting to google drive**"
      ],
      "metadata": {
        "id": "tBbdsA9EAuFO"
      }
    },
    {
      "cell_type": "code",
      "execution_count": 1,
      "metadata": {
        "colab": {
          "base_uri": "https://localhost:8080/"
        },
        "id": "I83zwK1Y_qyO",
        "outputId": "c5e842f6-1656-42d2-d222-a7888a79e1f2"
      },
      "outputs": [
        {
          "output_type": "stream",
          "name": "stdout",
          "text": [
            "Mounted at /content/gdrive/\n"
          ]
        }
      ],
      "source": [
        "# connecting google drive to the notebook\n",
        "from google.colab import drive\n",
        "drive.mount('/content/gdrive/', force_remount=True)"
      ]
    },
    {
      "cell_type": "markdown",
      "source": [
        "**Installing and Importing required libraries**"
      ],
      "metadata": {
        "id": "evwL-nRGAywv"
      }
    },
    {
      "cell_type": "code",
      "source": [
        "import pandas as pd\n",
        "import numpy as np\n",
        "import re\n",
        "from bs4 import BeautifulSoup\n",
        "\n",
        "import nltk\n",
        "import spacy"
      ],
      "metadata": {
        "id": "6u376yuL_4DM"
      },
      "execution_count": 2,
      "outputs": []
    },
    {
      "cell_type": "markdown",
      "source": [
        "**Importing data**"
      ],
      "metadata": {
        "id": "eRR8ntAqA51U"
      }
    },
    {
      "cell_type": "code",
      "source": [
        "data = pd.read_csv(\"/content/gdrive/MyDrive/Kaggle Competitions/Youtube_Video_Classification/data/youtube.csv\")"
      ],
      "metadata": {
        "id": "KWek6gVY_6nL"
      },
      "execution_count": 3,
      "outputs": []
    },
    {
      "cell_type": "code",
      "source": [
        "data.head()"
      ],
      "metadata": {
        "colab": {
          "base_uri": "https://localhost:8080/",
          "height": 206
        },
        "id": "EMLVzxTuAA-R",
        "outputId": "0c343723-712f-4775-e368-0da2ef891dbf"
      },
      "execution_count": 4,
      "outputs": [
        {
          "output_type": "execute_result",
          "data": {
            "text/plain": [
              "          link                                              title  \\\n",
              "0      JLZlCZ0  Ep 1| Travelling through North East India | Of...   \n",
              "1  i9E_Blai8vk      Welcome to Bali | Travel Vlog | Priscilla Lee   \n",
              "2   r284c-q8oY  My Solo Trip to ALASKA | Cruising From Vancouv...   \n",
              "3   Qmi-Xwq-ME   Traveling to the Happiest Country in the World!!   \n",
              "4  _lcOX55Ef70  Solo in Paro Bhutan | Tiger's Nest visit | Bhu...   \n",
              "\n",
              "                                         description category  \n",
              "0  Tanya Khanijow\\n671K subscribers\\nSUBSCRIBE\\nT...   travel  \n",
              "1  Priscilla Lee\\n45.6K subscribers\\nSUBSCRIBE\\n*...   travel  \n",
              "2  Allison Anderson\\n588K subscribers\\nSUBSCRIBE\\...   travel  \n",
              "3  Yes Theory\\n6.65M subscribers\\nSUBSCRIBE\\n*BLA...   travel  \n",
              "4  Tanya Khanijow\\n671K subscribers\\nSUBSCRIBE\\nH...   travel  "
            ],
            "text/html": [
              "\n",
              "  <div id=\"df-ce4216d9-43c1-4fa1-a65b-8a2b463b46f7\">\n",
              "    <div class=\"colab-df-container\">\n",
              "      <div>\n",
              "<style scoped>\n",
              "    .dataframe tbody tr th:only-of-type {\n",
              "        vertical-align: middle;\n",
              "    }\n",
              "\n",
              "    .dataframe tbody tr th {\n",
              "        vertical-align: top;\n",
              "    }\n",
              "\n",
              "    .dataframe thead th {\n",
              "        text-align: right;\n",
              "    }\n",
              "</style>\n",
              "<table border=\"1\" class=\"dataframe\">\n",
              "  <thead>\n",
              "    <tr style=\"text-align: right;\">\n",
              "      <th></th>\n",
              "      <th>link</th>\n",
              "      <th>title</th>\n",
              "      <th>description</th>\n",
              "      <th>category</th>\n",
              "    </tr>\n",
              "  </thead>\n",
              "  <tbody>\n",
              "    <tr>\n",
              "      <th>0</th>\n",
              "      <td>JLZlCZ0</td>\n",
              "      <td>Ep 1| Travelling through North East India | Of...</td>\n",
              "      <td>Tanya Khanijow\\n671K subscribers\\nSUBSCRIBE\\nT...</td>\n",
              "      <td>travel</td>\n",
              "    </tr>\n",
              "    <tr>\n",
              "      <th>1</th>\n",
              "      <td>i9E_Blai8vk</td>\n",
              "      <td>Welcome to Bali | Travel Vlog | Priscilla Lee</td>\n",
              "      <td>Priscilla Lee\\n45.6K subscribers\\nSUBSCRIBE\\n*...</td>\n",
              "      <td>travel</td>\n",
              "    </tr>\n",
              "    <tr>\n",
              "      <th>2</th>\n",
              "      <td>r284c-q8oY</td>\n",
              "      <td>My Solo Trip to ALASKA | Cruising From Vancouv...</td>\n",
              "      <td>Allison Anderson\\n588K subscribers\\nSUBSCRIBE\\...</td>\n",
              "      <td>travel</td>\n",
              "    </tr>\n",
              "    <tr>\n",
              "      <th>3</th>\n",
              "      <td>Qmi-Xwq-ME</td>\n",
              "      <td>Traveling to the Happiest Country in the World!!</td>\n",
              "      <td>Yes Theory\\n6.65M subscribers\\nSUBSCRIBE\\n*BLA...</td>\n",
              "      <td>travel</td>\n",
              "    </tr>\n",
              "    <tr>\n",
              "      <th>4</th>\n",
              "      <td>_lcOX55Ef70</td>\n",
              "      <td>Solo in Paro Bhutan | Tiger's Nest visit | Bhu...</td>\n",
              "      <td>Tanya Khanijow\\n671K subscribers\\nSUBSCRIBE\\nH...</td>\n",
              "      <td>travel</td>\n",
              "    </tr>\n",
              "  </tbody>\n",
              "</table>\n",
              "</div>\n",
              "      <button class=\"colab-df-convert\" onclick=\"convertToInteractive('df-ce4216d9-43c1-4fa1-a65b-8a2b463b46f7')\"\n",
              "              title=\"Convert this dataframe to an interactive table.\"\n",
              "              style=\"display:none;\">\n",
              "        \n",
              "  <svg xmlns=\"http://www.w3.org/2000/svg\" height=\"24px\"viewBox=\"0 0 24 24\"\n",
              "       width=\"24px\">\n",
              "    <path d=\"M0 0h24v24H0V0z\" fill=\"none\"/>\n",
              "    <path d=\"M18.56 5.44l.94 2.06.94-2.06 2.06-.94-2.06-.94-.94-2.06-.94 2.06-2.06.94zm-11 1L8.5 8.5l.94-2.06 2.06-.94-2.06-.94L8.5 2.5l-.94 2.06-2.06.94zm10 10l.94 2.06.94-2.06 2.06-.94-2.06-.94-.94-2.06-.94 2.06-2.06.94z\"/><path d=\"M17.41 7.96l-1.37-1.37c-.4-.4-.92-.59-1.43-.59-.52 0-1.04.2-1.43.59L10.3 9.45l-7.72 7.72c-.78.78-.78 2.05 0 2.83L4 21.41c.39.39.9.59 1.41.59.51 0 1.02-.2 1.41-.59l7.78-7.78 2.81-2.81c.8-.78.8-2.07 0-2.86zM5.41 20L4 18.59l7.72-7.72 1.47 1.35L5.41 20z\"/>\n",
              "  </svg>\n",
              "      </button>\n",
              "      \n",
              "  <style>\n",
              "    .colab-df-container {\n",
              "      display:flex;\n",
              "      flex-wrap:wrap;\n",
              "      gap: 12px;\n",
              "    }\n",
              "\n",
              "    .colab-df-convert {\n",
              "      background-color: #E8F0FE;\n",
              "      border: none;\n",
              "      border-radius: 50%;\n",
              "      cursor: pointer;\n",
              "      display: none;\n",
              "      fill: #1967D2;\n",
              "      height: 32px;\n",
              "      padding: 0 0 0 0;\n",
              "      width: 32px;\n",
              "    }\n",
              "\n",
              "    .colab-df-convert:hover {\n",
              "      background-color: #E2EBFA;\n",
              "      box-shadow: 0px 1px 2px rgba(60, 64, 67, 0.3), 0px 1px 3px 1px rgba(60, 64, 67, 0.15);\n",
              "      fill: #174EA6;\n",
              "    }\n",
              "\n",
              "    [theme=dark] .colab-df-convert {\n",
              "      background-color: #3B4455;\n",
              "      fill: #D2E3FC;\n",
              "    }\n",
              "\n",
              "    [theme=dark] .colab-df-convert:hover {\n",
              "      background-color: #434B5C;\n",
              "      box-shadow: 0px 1px 3px 1px rgba(0, 0, 0, 0.15);\n",
              "      filter: drop-shadow(0px 1px 2px rgba(0, 0, 0, 0.3));\n",
              "      fill: #FFFFFF;\n",
              "    }\n",
              "  </style>\n",
              "\n",
              "      <script>\n",
              "        const buttonEl =\n",
              "          document.querySelector('#df-ce4216d9-43c1-4fa1-a65b-8a2b463b46f7 button.colab-df-convert');\n",
              "        buttonEl.style.display =\n",
              "          google.colab.kernel.accessAllowed ? 'block' : 'none';\n",
              "\n",
              "        async function convertToInteractive(key) {\n",
              "          const element = document.querySelector('#df-ce4216d9-43c1-4fa1-a65b-8a2b463b46f7');\n",
              "          const dataTable =\n",
              "            await google.colab.kernel.invokeFunction('convertToInteractive',\n",
              "                                                     [key], {});\n",
              "          if (!dataTable) return;\n",
              "\n",
              "          const docLinkHtml = 'Like what you see? Visit the ' +\n",
              "            '<a target=\"_blank\" href=https://colab.research.google.com/notebooks/data_table.ipynb>data table notebook</a>'\n",
              "            + ' to learn more about interactive tables.';\n",
              "          element.innerHTML = '';\n",
              "          dataTable['output_type'] = 'display_data';\n",
              "          await google.colab.output.renderOutput(dataTable, element);\n",
              "          const docLink = document.createElement('div');\n",
              "          docLink.innerHTML = docLinkHtml;\n",
              "          element.appendChild(docLink);\n",
              "        }\n",
              "      </script>\n",
              "    </div>\n",
              "  </div>\n",
              "  "
            ]
          },
          "metadata": {},
          "execution_count": 4
        }
      ]
    },
    {
      "cell_type": "code",
      "source": [
        "data['category'].unique()"
      ],
      "metadata": {
        "colab": {
          "base_uri": "https://localhost:8080/"
        },
        "id": "lSlXEBLsAOW0",
        "outputId": "c7d64744-a354-4c0b-9818-17a542e237cb"
      },
      "execution_count": 5,
      "outputs": [
        {
          "output_type": "execute_result",
          "data": {
            "text/plain": [
              "array(['travel', 'food', 'art_music', 'history'], dtype=object)"
            ]
          },
          "metadata": {},
          "execution_count": 5
        }
      ]
    },
    {
      "cell_type": "code",
      "source": [
        "data['category'].value_counts()"
      ],
      "metadata": {
        "colab": {
          "base_uri": "https://localhost:8080/"
        },
        "id": "G7KoU9_sAWGp",
        "outputId": "6e41e235-ed71-4e24-d36c-43cf2bd00090"
      },
      "execution_count": 6,
      "outputs": [
        {
          "output_type": "execute_result",
          "data": {
            "text/plain": [
              "travel       1156\n",
              "art_music     947\n",
              "food          903\n",
              "history       593\n",
              "Name: category, dtype: int64"
            ]
          },
          "metadata": {},
          "execution_count": 6
        }
      ]
    },
    {
      "cell_type": "markdown",
      "source": [
        "**Data Cleaning and Preprocessing**"
      ],
      "metadata": {
        "id": "WonNhFSzA96h"
      }
    },
    {
      "cell_type": "code",
      "source": [
        "# Initialization for data cleaning\n",
        "nltk.download('stopwords')\n",
        "stopwords = nltk.corpus.stopwords.words('english')\n",
        "stemmer = nltk.stem.PorterStemmer()\n",
        "nltk.download('wordnet')\n",
        "lemmatizer = nltk.stem.WordNetLemmatizer()\n",
        "\n",
        "\n",
        "\n",
        "def data_cleaning_preprocessing(raw_text : str):\n",
        "  \"\"\"\n",
        "  Function to clean and preprocess the data\n",
        "  \"\"\"\n",
        "  text = BeautifulSoup(raw_text, \"html.parser\")\n",
        "  text = re.sub(\"[^a-zA-Z]\",\" \",text.get_text())\n",
        "  text = text.lower()\n",
        "  text = [lemmatizer.lemmatize(ele) for ele in text.split() if ele not in stopwords and 15>len(ele)>2]\n",
        "  text = \" \".join(text)\n",
        "  return text"
      ],
      "metadata": {
        "colab": {
          "base_uri": "https://localhost:8080/"
        },
        "id": "cFRtv_p4BBxY",
        "outputId": "617053f8-88ee-4999-aaa5-c508487ae8f8"
      },
      "execution_count": 44,
      "outputs": [
        {
          "output_type": "stream",
          "name": "stdout",
          "text": [
            "[nltk_data] Downloading package stopwords to /root/nltk_data...\n",
            "[nltk_data]   Package stopwords is already up-to-date!\n",
            "[nltk_data] Downloading package wordnet to /root/nltk_data...\n",
            "[nltk_data]   Package wordnet is already up-to-date!\n"
          ]
        }
      ]
    },
    {
      "cell_type": "code",
      "source": [
        "data['clean_title'] = data['title'].apply(data_cleaning_preprocessing)\n",
        "data['clean_description'] = data['description'].apply(data_cleaning_preprocessing)\n",
        "\n",
        "data['text'] = data['clean_title'] + \" \" + data['clean_description']"
      ],
      "metadata": {
        "id": "JL-OXWDsCl2w"
      },
      "execution_count": 45,
      "outputs": []
    },
    {
      "cell_type": "code",
      "source": [
        "data.head()"
      ],
      "metadata": {
        "colab": {
          "base_uri": "https://localhost:8080/",
          "height": 493
        },
        "id": "dXyHJwFnGWRv",
        "outputId": "9a2dc041-e662-4fbf-ed8a-af10e3bf0318"
      },
      "execution_count": 10,
      "outputs": [
        {
          "output_type": "execute_result",
          "data": {
            "text/plain": [
              "          link                                              title  \\\n",
              "0      JLZlCZ0  Ep 1| Travelling through North East India | Of...   \n",
              "1  i9E_Blai8vk      Welcome to Bali | Travel Vlog | Priscilla Lee   \n",
              "2   r284c-q8oY  My Solo Trip to ALASKA | Cruising From Vancouv...   \n",
              "3   Qmi-Xwq-ME   Traveling to the Happiest Country in the World!!   \n",
              "4  _lcOX55Ef70  Solo in Paro Bhutan | Tiger's Nest visit | Bhu...   \n",
              "\n",
              "                                         description category  \\\n",
              "0  Tanya Khanijow\\n671K subscribers\\nSUBSCRIBE\\nT...   travel   \n",
              "1  Priscilla Lee\\n45.6K subscribers\\nSUBSCRIBE\\n*...   travel   \n",
              "2  Allison Anderson\\n588K subscribers\\nSUBSCRIBE\\...   travel   \n",
              "3  Yes Theory\\n6.65M subscribers\\nSUBSCRIBE\\n*BLA...   travel   \n",
              "4  Tanya Khanijow\\n671K subscribers\\nSUBSCRIBE\\nH...   travel   \n",
              "\n",
              "                                         clean_title  \\\n",
              "0  ep travelling north east india arunachal journ...   \n",
              "1             welcome bali travel vlog priscilla lee   \n",
              "2      solo trip alaska cruising vancouver anchorage   \n",
              "3                   traveling happiest country world   \n",
              "4  solo paro bhutan tiger nest visit bhutan trave...   \n",
              "\n",
              "                                   clean_description  \\\n",
              "0  tanya khanijow k subscriber subscribe journey ...   \n",
              "1  priscilla lee k subscriber subscribe disclaime...   \n",
              "2  allison anderson k subscriber subscribe spent ...   \n",
              "3  yes theory subscriber subscribe black friday d...   \n",
              "4  tanya khanijow k subscriber subscribe presenti...   \n",
              "\n",
              "                                                text  \n",
              "0  ep travelling north east india arunachal journ...  \n",
              "1  welcome bali travel vlog priscilla lee priscil...  \n",
              "2  solo trip alaska cruising vancouver anchorage ...  \n",
              "3  traveling happiest country world yes theory su...  \n",
              "4  solo paro bhutan tiger nest visit bhutan trave...  "
            ],
            "text/html": [
              "\n",
              "  <div id=\"df-1986c14b-7fa8-45bc-ac84-6db2273f5eed\">\n",
              "    <div class=\"colab-df-container\">\n",
              "      <div>\n",
              "<style scoped>\n",
              "    .dataframe tbody tr th:only-of-type {\n",
              "        vertical-align: middle;\n",
              "    }\n",
              "\n",
              "    .dataframe tbody tr th {\n",
              "        vertical-align: top;\n",
              "    }\n",
              "\n",
              "    .dataframe thead th {\n",
              "        text-align: right;\n",
              "    }\n",
              "</style>\n",
              "<table border=\"1\" class=\"dataframe\">\n",
              "  <thead>\n",
              "    <tr style=\"text-align: right;\">\n",
              "      <th></th>\n",
              "      <th>link</th>\n",
              "      <th>title</th>\n",
              "      <th>description</th>\n",
              "      <th>category</th>\n",
              "      <th>clean_title</th>\n",
              "      <th>clean_description</th>\n",
              "      <th>text</th>\n",
              "    </tr>\n",
              "  </thead>\n",
              "  <tbody>\n",
              "    <tr>\n",
              "      <th>0</th>\n",
              "      <td>JLZlCZ0</td>\n",
              "      <td>Ep 1| Travelling through North East India | Of...</td>\n",
              "      <td>Tanya Khanijow\\n671K subscribers\\nSUBSCRIBE\\nT...</td>\n",
              "      <td>travel</td>\n",
              "      <td>ep travelling north east india arunachal journ...</td>\n",
              "      <td>tanya khanijow k subscriber subscribe journey ...</td>\n",
              "      <td>ep travelling north east india arunachal journ...</td>\n",
              "    </tr>\n",
              "    <tr>\n",
              "      <th>1</th>\n",
              "      <td>i9E_Blai8vk</td>\n",
              "      <td>Welcome to Bali | Travel Vlog | Priscilla Lee</td>\n",
              "      <td>Priscilla Lee\\n45.6K subscribers\\nSUBSCRIBE\\n*...</td>\n",
              "      <td>travel</td>\n",
              "      <td>welcome bali travel vlog priscilla lee</td>\n",
              "      <td>priscilla lee k subscriber subscribe disclaime...</td>\n",
              "      <td>welcome bali travel vlog priscilla lee priscil...</td>\n",
              "    </tr>\n",
              "    <tr>\n",
              "      <th>2</th>\n",
              "      <td>r284c-q8oY</td>\n",
              "      <td>My Solo Trip to ALASKA | Cruising From Vancouv...</td>\n",
              "      <td>Allison Anderson\\n588K subscribers\\nSUBSCRIBE\\...</td>\n",
              "      <td>travel</td>\n",
              "      <td>solo trip alaska cruising vancouver anchorage</td>\n",
              "      <td>allison anderson k subscriber subscribe spent ...</td>\n",
              "      <td>solo trip alaska cruising vancouver anchorage ...</td>\n",
              "    </tr>\n",
              "    <tr>\n",
              "      <th>3</th>\n",
              "      <td>Qmi-Xwq-ME</td>\n",
              "      <td>Traveling to the Happiest Country in the World!!</td>\n",
              "      <td>Yes Theory\\n6.65M subscribers\\nSUBSCRIBE\\n*BLA...</td>\n",
              "      <td>travel</td>\n",
              "      <td>traveling happiest country world</td>\n",
              "      <td>yes theory subscriber subscribe black friday d...</td>\n",
              "      <td>traveling happiest country world yes theory su...</td>\n",
              "    </tr>\n",
              "    <tr>\n",
              "      <th>4</th>\n",
              "      <td>_lcOX55Ef70</td>\n",
              "      <td>Solo in Paro Bhutan | Tiger's Nest visit | Bhu...</td>\n",
              "      <td>Tanya Khanijow\\n671K subscribers\\nSUBSCRIBE\\nH...</td>\n",
              "      <td>travel</td>\n",
              "      <td>solo paro bhutan tiger nest visit bhutan trave...</td>\n",
              "      <td>tanya khanijow k subscriber subscribe presenti...</td>\n",
              "      <td>solo paro bhutan tiger nest visit bhutan trave...</td>\n",
              "    </tr>\n",
              "  </tbody>\n",
              "</table>\n",
              "</div>\n",
              "      <button class=\"colab-df-convert\" onclick=\"convertToInteractive('df-1986c14b-7fa8-45bc-ac84-6db2273f5eed')\"\n",
              "              title=\"Convert this dataframe to an interactive table.\"\n",
              "              style=\"display:none;\">\n",
              "        \n",
              "  <svg xmlns=\"http://www.w3.org/2000/svg\" height=\"24px\"viewBox=\"0 0 24 24\"\n",
              "       width=\"24px\">\n",
              "    <path d=\"M0 0h24v24H0V0z\" fill=\"none\"/>\n",
              "    <path d=\"M18.56 5.44l.94 2.06.94-2.06 2.06-.94-2.06-.94-.94-2.06-.94 2.06-2.06.94zm-11 1L8.5 8.5l.94-2.06 2.06-.94-2.06-.94L8.5 2.5l-.94 2.06-2.06.94zm10 10l.94 2.06.94-2.06 2.06-.94-2.06-.94-.94-2.06-.94 2.06-2.06.94z\"/><path d=\"M17.41 7.96l-1.37-1.37c-.4-.4-.92-.59-1.43-.59-.52 0-1.04.2-1.43.59L10.3 9.45l-7.72 7.72c-.78.78-.78 2.05 0 2.83L4 21.41c.39.39.9.59 1.41.59.51 0 1.02-.2 1.41-.59l7.78-7.78 2.81-2.81c.8-.78.8-2.07 0-2.86zM5.41 20L4 18.59l7.72-7.72 1.47 1.35L5.41 20z\"/>\n",
              "  </svg>\n",
              "      </button>\n",
              "      \n",
              "  <style>\n",
              "    .colab-df-container {\n",
              "      display:flex;\n",
              "      flex-wrap:wrap;\n",
              "      gap: 12px;\n",
              "    }\n",
              "\n",
              "    .colab-df-convert {\n",
              "      background-color: #E8F0FE;\n",
              "      border: none;\n",
              "      border-radius: 50%;\n",
              "      cursor: pointer;\n",
              "      display: none;\n",
              "      fill: #1967D2;\n",
              "      height: 32px;\n",
              "      padding: 0 0 0 0;\n",
              "      width: 32px;\n",
              "    }\n",
              "\n",
              "    .colab-df-convert:hover {\n",
              "      background-color: #E2EBFA;\n",
              "      box-shadow: 0px 1px 2px rgba(60, 64, 67, 0.3), 0px 1px 3px 1px rgba(60, 64, 67, 0.15);\n",
              "      fill: #174EA6;\n",
              "    }\n",
              "\n",
              "    [theme=dark] .colab-df-convert {\n",
              "      background-color: #3B4455;\n",
              "      fill: #D2E3FC;\n",
              "    }\n",
              "\n",
              "    [theme=dark] .colab-df-convert:hover {\n",
              "      background-color: #434B5C;\n",
              "      box-shadow: 0px 1px 3px 1px rgba(0, 0, 0, 0.15);\n",
              "      filter: drop-shadow(0px 1px 2px rgba(0, 0, 0, 0.3));\n",
              "      fill: #FFFFFF;\n",
              "    }\n",
              "  </style>\n",
              "\n",
              "      <script>\n",
              "        const buttonEl =\n",
              "          document.querySelector('#df-1986c14b-7fa8-45bc-ac84-6db2273f5eed button.colab-df-convert');\n",
              "        buttonEl.style.display =\n",
              "          google.colab.kernel.accessAllowed ? 'block' : 'none';\n",
              "\n",
              "        async function convertToInteractive(key) {\n",
              "          const element = document.querySelector('#df-1986c14b-7fa8-45bc-ac84-6db2273f5eed');\n",
              "          const dataTable =\n",
              "            await google.colab.kernel.invokeFunction('convertToInteractive',\n",
              "                                                     [key], {});\n",
              "          if (!dataTable) return;\n",
              "\n",
              "          const docLinkHtml = 'Like what you see? Visit the ' +\n",
              "            '<a target=\"_blank\" href=https://colab.research.google.com/notebooks/data_table.ipynb>data table notebook</a>'\n",
              "            + ' to learn more about interactive tables.';\n",
              "          element.innerHTML = '';\n",
              "          dataTable['output_type'] = 'display_data';\n",
              "          await google.colab.output.renderOutput(dataTable, element);\n",
              "          const docLink = document.createElement('div');\n",
              "          docLink.innerHTML = docLinkHtml;\n",
              "          element.appendChild(docLink);\n",
              "        }\n",
              "      </script>\n",
              "    </div>\n",
              "  </div>\n",
              "  "
            ]
          },
          "metadata": {},
          "execution_count": 10
        }
      ]
    },
    {
      "cell_type": "code",
      "source": [
        "data['clean_title'][0]\n"
      ],
      "metadata": {
        "colab": {
          "base_uri": "https://localhost:8080/",
          "height": 35
        },
        "id": "Vpd_gynJEPXu",
        "outputId": "dcff79eb-3439-4c05-f7c9-fc4a9d693c1c"
      },
      "execution_count": 46,
      "outputs": [
        {
          "output_type": "execute_result",
          "data": {
            "text/plain": [
              "'travelling north east india arunachal journey begin pasighat'"
            ],
            "application/vnd.google.colaboratory.intrinsic+json": {
              "type": "string"
            }
          },
          "metadata": {},
          "execution_count": 46
        }
      ]
    },
    {
      "cell_type": "code",
      "source": [
        "data['clean_description'][0]"
      ],
      "metadata": {
        "colab": {
          "base_uri": "https://localhost:8080/",
          "height": 71
        },
        "id": "5gVOzuqgEQ_V",
        "outputId": "221178ae-3aca-4222-eebf-f569fdd770f3"
      },
      "execution_count": 47,
      "outputs": [
        {
          "output_type": "execute_result",
          "data": {
            "text/plain": [
              "'tanya khanijow subscriber subscribe journey arunachal north east india begin train journey guwahati murkongselek head pasighat travel companion getting started exploring tiny glimpse arunachal far market bridge adventure get better next video show'"
            ],
            "application/vnd.google.colaboratory.intrinsic+json": {
              "type": "string"
            }
          },
          "metadata": {},
          "execution_count": 47
        }
      ]
    },
    {
      "cell_type": "code",
      "source": [
        "data['text'][0]"
      ],
      "metadata": {
        "colab": {
          "base_uri": "https://localhost:8080/",
          "height": 71
        },
        "id": "EhCxK6ITGbdu",
        "outputId": "f658c82b-6301-402d-b72c-30feba7e0694"
      },
      "execution_count": 48,
      "outputs": [
        {
          "output_type": "execute_result",
          "data": {
            "text/plain": [
              "'travelling north east india arunachal journey begin pasighat tanya khanijow subscriber subscribe journey arunachal north east india begin train journey guwahati murkongselek head pasighat travel companion getting started exploring tiny glimpse arunachal far market bridge adventure get better next video show'"
            ],
            "application/vnd.google.colaboratory.intrinsic+json": {
              "type": "string"
            }
          },
          "metadata": {},
          "execution_count": 48
        }
      ]
    },
    {
      "cell_type": "code",
      "source": [
        "data_clean = data[['text','category']]\n",
        "data_clean['category'] = data_clean['category'].astype('category')\n",
        "data_clean.head()"
      ],
      "metadata": {
        "colab": {
          "base_uri": "https://localhost:8080/",
          "height": 333
        },
        "id": "fkAi94spG3jV",
        "outputId": "39876520-dc17-40d3-e664-ab0011ec5eff"
      },
      "execution_count": 49,
      "outputs": [
        {
          "output_type": "stream",
          "name": "stderr",
          "text": [
            "/usr/local/lib/python3.7/dist-packages/ipykernel_launcher.py:2: SettingWithCopyWarning: \n",
            "A value is trying to be set on a copy of a slice from a DataFrame.\n",
            "Try using .loc[row_indexer,col_indexer] = value instead\n",
            "\n",
            "See the caveats in the documentation: https://pandas.pydata.org/pandas-docs/stable/user_guide/indexing.html#returning-a-view-versus-a-copy\n",
            "  \n"
          ]
        },
        {
          "output_type": "execute_result",
          "data": {
            "text/plain": [
              "                                                text category\n",
              "0  travelling north east india arunachal journey ...   travel\n",
              "1  welcome bali travel vlog priscilla lee priscil...   travel\n",
              "2  solo trip alaska cruising vancouver anchorage ...   travel\n",
              "3  traveling happiest country world yes theory su...   travel\n",
              "4  solo paro bhutan tiger nest visit bhutan trave...   travel"
            ],
            "text/html": [
              "\n",
              "  <div id=\"df-adb08786-1bf9-40ad-b107-894b7bf03790\">\n",
              "    <div class=\"colab-df-container\">\n",
              "      <div>\n",
              "<style scoped>\n",
              "    .dataframe tbody tr th:only-of-type {\n",
              "        vertical-align: middle;\n",
              "    }\n",
              "\n",
              "    .dataframe tbody tr th {\n",
              "        vertical-align: top;\n",
              "    }\n",
              "\n",
              "    .dataframe thead th {\n",
              "        text-align: right;\n",
              "    }\n",
              "</style>\n",
              "<table border=\"1\" class=\"dataframe\">\n",
              "  <thead>\n",
              "    <tr style=\"text-align: right;\">\n",
              "      <th></th>\n",
              "      <th>text</th>\n",
              "      <th>category</th>\n",
              "    </tr>\n",
              "  </thead>\n",
              "  <tbody>\n",
              "    <tr>\n",
              "      <th>0</th>\n",
              "      <td>travelling north east india arunachal journey ...</td>\n",
              "      <td>travel</td>\n",
              "    </tr>\n",
              "    <tr>\n",
              "      <th>1</th>\n",
              "      <td>welcome bali travel vlog priscilla lee priscil...</td>\n",
              "      <td>travel</td>\n",
              "    </tr>\n",
              "    <tr>\n",
              "      <th>2</th>\n",
              "      <td>solo trip alaska cruising vancouver anchorage ...</td>\n",
              "      <td>travel</td>\n",
              "    </tr>\n",
              "    <tr>\n",
              "      <th>3</th>\n",
              "      <td>traveling happiest country world yes theory su...</td>\n",
              "      <td>travel</td>\n",
              "    </tr>\n",
              "    <tr>\n",
              "      <th>4</th>\n",
              "      <td>solo paro bhutan tiger nest visit bhutan trave...</td>\n",
              "      <td>travel</td>\n",
              "    </tr>\n",
              "  </tbody>\n",
              "</table>\n",
              "</div>\n",
              "      <button class=\"colab-df-convert\" onclick=\"convertToInteractive('df-adb08786-1bf9-40ad-b107-894b7bf03790')\"\n",
              "              title=\"Convert this dataframe to an interactive table.\"\n",
              "              style=\"display:none;\">\n",
              "        \n",
              "  <svg xmlns=\"http://www.w3.org/2000/svg\" height=\"24px\"viewBox=\"0 0 24 24\"\n",
              "       width=\"24px\">\n",
              "    <path d=\"M0 0h24v24H0V0z\" fill=\"none\"/>\n",
              "    <path d=\"M18.56 5.44l.94 2.06.94-2.06 2.06-.94-2.06-.94-.94-2.06-.94 2.06-2.06.94zm-11 1L8.5 8.5l.94-2.06 2.06-.94-2.06-.94L8.5 2.5l-.94 2.06-2.06.94zm10 10l.94 2.06.94-2.06 2.06-.94-2.06-.94-.94-2.06-.94 2.06-2.06.94z\"/><path d=\"M17.41 7.96l-1.37-1.37c-.4-.4-.92-.59-1.43-.59-.52 0-1.04.2-1.43.59L10.3 9.45l-7.72 7.72c-.78.78-.78 2.05 0 2.83L4 21.41c.39.39.9.59 1.41.59.51 0 1.02-.2 1.41-.59l7.78-7.78 2.81-2.81c.8-.78.8-2.07 0-2.86zM5.41 20L4 18.59l7.72-7.72 1.47 1.35L5.41 20z\"/>\n",
              "  </svg>\n",
              "      </button>\n",
              "      \n",
              "  <style>\n",
              "    .colab-df-container {\n",
              "      display:flex;\n",
              "      flex-wrap:wrap;\n",
              "      gap: 12px;\n",
              "    }\n",
              "\n",
              "    .colab-df-convert {\n",
              "      background-color: #E8F0FE;\n",
              "      border: none;\n",
              "      border-radius: 50%;\n",
              "      cursor: pointer;\n",
              "      display: none;\n",
              "      fill: #1967D2;\n",
              "      height: 32px;\n",
              "      padding: 0 0 0 0;\n",
              "      width: 32px;\n",
              "    }\n",
              "\n",
              "    .colab-df-convert:hover {\n",
              "      background-color: #E2EBFA;\n",
              "      box-shadow: 0px 1px 2px rgba(60, 64, 67, 0.3), 0px 1px 3px 1px rgba(60, 64, 67, 0.15);\n",
              "      fill: #174EA6;\n",
              "    }\n",
              "\n",
              "    [theme=dark] .colab-df-convert {\n",
              "      background-color: #3B4455;\n",
              "      fill: #D2E3FC;\n",
              "    }\n",
              "\n",
              "    [theme=dark] .colab-df-convert:hover {\n",
              "      background-color: #434B5C;\n",
              "      box-shadow: 0px 1px 3px 1px rgba(0, 0, 0, 0.15);\n",
              "      filter: drop-shadow(0px 1px 2px rgba(0, 0, 0, 0.3));\n",
              "      fill: #FFFFFF;\n",
              "    }\n",
              "  </style>\n",
              "\n",
              "      <script>\n",
              "        const buttonEl =\n",
              "          document.querySelector('#df-adb08786-1bf9-40ad-b107-894b7bf03790 button.colab-df-convert');\n",
              "        buttonEl.style.display =\n",
              "          google.colab.kernel.accessAllowed ? 'block' : 'none';\n",
              "\n",
              "        async function convertToInteractive(key) {\n",
              "          const element = document.querySelector('#df-adb08786-1bf9-40ad-b107-894b7bf03790');\n",
              "          const dataTable =\n",
              "            await google.colab.kernel.invokeFunction('convertToInteractive',\n",
              "                                                     [key], {});\n",
              "          if (!dataTable) return;\n",
              "\n",
              "          const docLinkHtml = 'Like what you see? Visit the ' +\n",
              "            '<a target=\"_blank\" href=https://colab.research.google.com/notebooks/data_table.ipynb>data table notebook</a>'\n",
              "            + ' to learn more about interactive tables.';\n",
              "          element.innerHTML = '';\n",
              "          dataTable['output_type'] = 'display_data';\n",
              "          await google.colab.output.renderOutput(dataTable, element);\n",
              "          const docLink = document.createElement('div');\n",
              "          docLink.innerHTML = docLinkHtml;\n",
              "          element.appendChild(docLink);\n",
              "        }\n",
              "      </script>\n",
              "    </div>\n",
              "  </div>\n",
              "  "
            ]
          },
          "metadata": {},
          "execution_count": 49
        }
      ]
    },
    {
      "cell_type": "markdown",
      "source": [
        "**Train Text Split**"
      ],
      "metadata": {
        "id": "Os-o75qTafkL"
      }
    },
    {
      "cell_type": "code",
      "source": [
        "from sklearn.model_selection import train_test_split\n",
        "X = data_clean[['text']]\n",
        "y = data_clean['category']\n",
        "X_train, X_test, y_train, y_test = train_test_split(X,y, test_size=0.3, random_state = 42)"
      ],
      "metadata": {
        "id": "inLSejbLHL92"
      },
      "execution_count": 95,
      "outputs": []
    },
    {
      "cell_type": "markdown",
      "source": [
        "By observing the value counts for train and test data set we can confirm that the ratio between all the categories for both the datasets in almost same"
      ],
      "metadata": {
        "id": "t0zIz3HwamN9"
      }
    },
    {
      "cell_type": "code",
      "source": [
        "print(\"Frequency count for train data set\")\n",
        "y_train.value_counts()"
      ],
      "metadata": {
        "colab": {
          "base_uri": "https://localhost:8080/"
        },
        "id": "hU9rffbuHoz_",
        "outputId": "33a93d93-e9f9-44ac-cbc6-794aef0531d1"
      },
      "execution_count": 213,
      "outputs": [
        {
          "output_type": "stream",
          "name": "stdout",
          "text": [
            "Frequency count for train data set\n"
          ]
        },
        {
          "output_type": "execute_result",
          "data": {
            "text/plain": [
              "travel       776\n",
              "art_music    690\n",
              "food         639\n",
              "history      414\n",
              "Name: category, dtype: int64"
            ]
          },
          "metadata": {},
          "execution_count": 213
        }
      ]
    },
    {
      "cell_type": "code",
      "source": [
        "print(\"Frequency count for test data set\")\n",
        "y_test.value_counts()"
      ],
      "metadata": {
        "colab": {
          "base_uri": "https://localhost:8080/"
        },
        "id": "DM_l6ZTWHqP-",
        "outputId": "504313ee-7917-4664-c528-fb3156dd5b69"
      },
      "execution_count": 215,
      "outputs": [
        {
          "output_type": "stream",
          "name": "stdout",
          "text": [
            "Frequency count for test data set\n"
          ]
        },
        {
          "output_type": "execute_result",
          "data": {
            "text/plain": [
              "travel       380\n",
              "food         264\n",
              "art_music    257\n",
              "history      179\n",
              "Name: category, dtype: int64"
            ]
          },
          "metadata": {},
          "execution_count": 215
        }
      ]
    },
    {
      "cell_type": "code",
      "source": [
        " X_train.head()"
      ],
      "metadata": {
        "colab": {
          "base_uri": "https://localhost:8080/",
          "height": 206
        },
        "id": "K8kBEId5Io8R",
        "outputId": "f1553152-4005-4322-bdbe-ee5f63f2e058"
      },
      "execution_count": 98,
      "outputs": [
        {
          "output_type": "execute_result",
          "data": {
            "text/plain": [
              "                                                   text\n",
              "2670  hit radio live radio pop music hit best englis...\n",
              "276   brother ghana travel blogger dubai vlog brothe...\n",
              "2387  pop hit top pop song playlist popular pop musi...\n",
              "2942  chak india title song shah rukh khan sukhvinde...\n",
              "2383  minute timer pop music kid fun timer classroom..."
            ],
            "text/html": [
              "\n",
              "  <div id=\"df-43bfdb9c-fbfc-414d-9315-089cf09edb29\">\n",
              "    <div class=\"colab-df-container\">\n",
              "      <div>\n",
              "<style scoped>\n",
              "    .dataframe tbody tr th:only-of-type {\n",
              "        vertical-align: middle;\n",
              "    }\n",
              "\n",
              "    .dataframe tbody tr th {\n",
              "        vertical-align: top;\n",
              "    }\n",
              "\n",
              "    .dataframe thead th {\n",
              "        text-align: right;\n",
              "    }\n",
              "</style>\n",
              "<table border=\"1\" class=\"dataframe\">\n",
              "  <thead>\n",
              "    <tr style=\"text-align: right;\">\n",
              "      <th></th>\n",
              "      <th>text</th>\n",
              "    </tr>\n",
              "  </thead>\n",
              "  <tbody>\n",
              "    <tr>\n",
              "      <th>2670</th>\n",
              "      <td>hit radio live radio pop music hit best englis...</td>\n",
              "    </tr>\n",
              "    <tr>\n",
              "      <th>276</th>\n",
              "      <td>brother ghana travel blogger dubai vlog brothe...</td>\n",
              "    </tr>\n",
              "    <tr>\n",
              "      <th>2387</th>\n",
              "      <td>pop hit top pop song playlist popular pop musi...</td>\n",
              "    </tr>\n",
              "    <tr>\n",
              "      <th>2942</th>\n",
              "      <td>chak india title song shah rukh khan sukhvinde...</td>\n",
              "    </tr>\n",
              "    <tr>\n",
              "      <th>2383</th>\n",
              "      <td>minute timer pop music kid fun timer classroom...</td>\n",
              "    </tr>\n",
              "  </tbody>\n",
              "</table>\n",
              "</div>\n",
              "      <button class=\"colab-df-convert\" onclick=\"convertToInteractive('df-43bfdb9c-fbfc-414d-9315-089cf09edb29')\"\n",
              "              title=\"Convert this dataframe to an interactive table.\"\n",
              "              style=\"display:none;\">\n",
              "        \n",
              "  <svg xmlns=\"http://www.w3.org/2000/svg\" height=\"24px\"viewBox=\"0 0 24 24\"\n",
              "       width=\"24px\">\n",
              "    <path d=\"M0 0h24v24H0V0z\" fill=\"none\"/>\n",
              "    <path d=\"M18.56 5.44l.94 2.06.94-2.06 2.06-.94-2.06-.94-.94-2.06-.94 2.06-2.06.94zm-11 1L8.5 8.5l.94-2.06 2.06-.94-2.06-.94L8.5 2.5l-.94 2.06-2.06.94zm10 10l.94 2.06.94-2.06 2.06-.94-2.06-.94-.94-2.06-.94 2.06-2.06.94z\"/><path d=\"M17.41 7.96l-1.37-1.37c-.4-.4-.92-.59-1.43-.59-.52 0-1.04.2-1.43.59L10.3 9.45l-7.72 7.72c-.78.78-.78 2.05 0 2.83L4 21.41c.39.39.9.59 1.41.59.51 0 1.02-.2 1.41-.59l7.78-7.78 2.81-2.81c.8-.78.8-2.07 0-2.86zM5.41 20L4 18.59l7.72-7.72 1.47 1.35L5.41 20z\"/>\n",
              "  </svg>\n",
              "      </button>\n",
              "      \n",
              "  <style>\n",
              "    .colab-df-container {\n",
              "      display:flex;\n",
              "      flex-wrap:wrap;\n",
              "      gap: 12px;\n",
              "    }\n",
              "\n",
              "    .colab-df-convert {\n",
              "      background-color: #E8F0FE;\n",
              "      border: none;\n",
              "      border-radius: 50%;\n",
              "      cursor: pointer;\n",
              "      display: none;\n",
              "      fill: #1967D2;\n",
              "      height: 32px;\n",
              "      padding: 0 0 0 0;\n",
              "      width: 32px;\n",
              "    }\n",
              "\n",
              "    .colab-df-convert:hover {\n",
              "      background-color: #E2EBFA;\n",
              "      box-shadow: 0px 1px 2px rgba(60, 64, 67, 0.3), 0px 1px 3px 1px rgba(60, 64, 67, 0.15);\n",
              "      fill: #174EA6;\n",
              "    }\n",
              "\n",
              "    [theme=dark] .colab-df-convert {\n",
              "      background-color: #3B4455;\n",
              "      fill: #D2E3FC;\n",
              "    }\n",
              "\n",
              "    [theme=dark] .colab-df-convert:hover {\n",
              "      background-color: #434B5C;\n",
              "      box-shadow: 0px 1px 3px 1px rgba(0, 0, 0, 0.15);\n",
              "      filter: drop-shadow(0px 1px 2px rgba(0, 0, 0, 0.3));\n",
              "      fill: #FFFFFF;\n",
              "    }\n",
              "  </style>\n",
              "\n",
              "      <script>\n",
              "        const buttonEl =\n",
              "          document.querySelector('#df-43bfdb9c-fbfc-414d-9315-089cf09edb29 button.colab-df-convert');\n",
              "        buttonEl.style.display =\n",
              "          google.colab.kernel.accessAllowed ? 'block' : 'none';\n",
              "\n",
              "        async function convertToInteractive(key) {\n",
              "          const element = document.querySelector('#df-43bfdb9c-fbfc-414d-9315-089cf09edb29');\n",
              "          const dataTable =\n",
              "            await google.colab.kernel.invokeFunction('convertToInteractive',\n",
              "                                                     [key], {});\n",
              "          if (!dataTable) return;\n",
              "\n",
              "          const docLinkHtml = 'Like what you see? Visit the ' +\n",
              "            '<a target=\"_blank\" href=https://colab.research.google.com/notebooks/data_table.ipynb>data table notebook</a>'\n",
              "            + ' to learn more about interactive tables.';\n",
              "          element.innerHTML = '';\n",
              "          dataTable['output_type'] = 'display_data';\n",
              "          await google.colab.output.renderOutput(dataTable, element);\n",
              "          const docLink = document.createElement('div');\n",
              "          docLink.innerHTML = docLinkHtml;\n",
              "          element.appendChild(docLink);\n",
              "        }\n",
              "      </script>\n",
              "    </div>\n",
              "  </div>\n",
              "  "
            ]
          },
          "metadata": {},
          "execution_count": 98
        }
      ]
    },
    {
      "cell_type": "markdown",
      "source": [
        "**Word Embedding**\n",
        "\n",
        "Now we will encode text pertaining to each video into word embeddings using a word2vec model trained on the corpus 'text8' and vocabulary observed in the text."
      ],
      "metadata": {
        "id": "mRwuLI89a84W"
      }
    },
    {
      "cell_type": "code",
      "source": [
        "import gensim.downloader as api"
      ],
      "metadata": {
        "id": "-yY_L9z6KvbM"
      },
      "execution_count": 32,
      "outputs": []
    },
    {
      "cell_type": "code",
      "source": [
        "corpus = api.load('text8')"
      ],
      "metadata": {
        "colab": {
          "base_uri": "https://localhost:8080/"
        },
        "id": "BtItXSRDMVMW",
        "outputId": "ca258e0e-a42e-434f-bfda-117c2f00b029"
      },
      "execution_count": 33,
      "outputs": [
        {
          "output_type": "stream",
          "name": "stdout",
          "text": [
            "[==================================================] 100.0% 31.6/31.6MB downloaded\n"
          ]
        }
      ]
    },
    {
      "cell_type": "markdown",
      "source": [
        "**Training the model on the 'text8' corpus**"
      ],
      "metadata": {
        "id": "U9765qnEba2X"
      }
    },
    {
      "cell_type": "code",
      "source": [
        "from gensim.models.word2vec import Word2Vec\n",
        "model = Word2Vec(corpus)"
      ],
      "metadata": {
        "id": "jGIp0wW9NBGr"
      },
      "execution_count": 34,
      "outputs": []
    },
    {
      "cell_type": "markdown",
      "source": [
        "**Training the model on the data set vocabulary**"
      ],
      "metadata": {
        "id": "ghysmjXlbitR"
      }
    },
    {
      "cell_type": "code",
      "source": [
        "my_corpus = []\n",
        "for ele in data_clean['text']:\n",
        "  my_corpus.append(ele.split())\n",
        "\n",
        "model = Word2Vec(sentences=my_corpus, size=100, window=5, min_count=1, workers=4)\n",
        "model.save(\"word2vec.model\")"
      ],
      "metadata": {
        "id": "vPo9GHQ5Kegm"
      },
      "execution_count": 86,
      "outputs": []
    },
    {
      "cell_type": "code",
      "source": [
        "train_features = []\n",
        "for ele in X_train['text']:\n",
        "  train_features.append(np.average(np.transpose(model[ele.split()]),axis=1))"
      ],
      "metadata": {
        "colab": {
          "base_uri": "https://localhost:8080/"
        },
        "id": "6EzqZ8x9RsWp",
        "outputId": "8f19c4cf-1cfe-4626-ec6c-fc44b7147125"
      },
      "execution_count": 130,
      "outputs": [
        {
          "output_type": "stream",
          "name": "stderr",
          "text": [
            "/usr/local/lib/python3.7/dist-packages/ipykernel_launcher.py:3: DeprecationWarning: Call to deprecated `__getitem__` (Method will be removed in 4.0.0, use self.wv.__getitem__() instead).\n",
            "  This is separate from the ipykernel package so we can avoid doing imports until\n"
          ]
        }
      ]
    },
    {
      "cell_type": "markdown",
      "source": [
        "**Data Frame crration for training**\n",
        "\n",
        "Using the features from word embedding we have created a dataframe invoving the all the sentences as rows and the word embedding as features"
      ],
      "metadata": {
        "id": "Hnu90pOybtET"
      }
    },
    {
      "cell_type": "code",
      "source": [
        "# list to numpy array\n",
        "train_features = np.array(train_features)\n",
        "\n",
        "# numpy array to pandas dataframe\n",
        "df_train = pd.DataFrame(train_features)\n",
        "\n",
        "print(\"Train Data\")\n",
        "\n",
        "df_train"
      ],
      "metadata": {
        "colab": {
          "base_uri": "https://localhost:8080/",
          "height": 506
        },
        "id": "e8krsrArUZpl",
        "outputId": "25188e7e-44a2-4f60-b7ad-a9d4395c05bd"
      },
      "execution_count": 216,
      "outputs": [
        {
          "output_type": "stream",
          "name": "stdout",
          "text": [
            "Train Data\n"
          ]
        },
        {
          "output_type": "execute_result",
          "data": {
            "text/plain": [
              "            0         1         2         3         4         5         6   \\\n",
              "0     0.543152 -0.474838 -1.590685 -0.117498 -0.100035 -0.088057 -0.417259   \n",
              "1     0.375676 -0.164515 -0.762357  0.076611 -0.097052  0.075910 -0.211070   \n",
              "2     0.634623 -0.487159 -1.512009  0.008553 -0.111199  0.006033 -0.483153   \n",
              "3     0.388568 -0.110772 -0.875813  0.020317 -0.088182  0.043812 -0.176177   \n",
              "4     0.318853 -0.098652 -0.728615 -0.004456 -0.052695  0.017839 -0.157296   \n",
              "...        ...       ...       ...       ...       ...       ...       ...   \n",
              "2514  0.517925  0.002131 -1.364986 -0.185532 -0.067471 -0.069308 -0.110016   \n",
              "2515  0.399685 -0.119503 -0.821010  0.135167 -0.137346  0.140662 -0.217769   \n",
              "2516  0.365934 -0.122759 -0.660062  0.201532 -0.150597  0.175995 -0.231826   \n",
              "2517  0.416492 -0.043006 -0.964231 -0.054241 -0.056875  0.016375 -0.126387   \n",
              "2518  0.327535 -0.030220 -0.749503 -0.040883 -0.038018  0.013178 -0.104485   \n",
              "\n",
              "            7         8         9   ...        90        91        92  \\\n",
              "0     2.085554 -1.631940  0.420533  ...  0.608796 -0.392851  1.034701   \n",
              "1     0.969503 -0.612564  0.218435  ...  0.338122 -0.198298  0.618516   \n",
              "2     2.090725 -1.320328  0.376740  ...  0.654796 -0.404338  1.215353   \n",
              "3     0.970341 -0.715505  0.226798  ...  0.412236 -0.227099  0.667700   \n",
              "4     0.787827 -0.586874  0.164410  ...  0.453045 -0.223019  0.671777   \n",
              "...        ...       ...       ...  ...       ...       ...       ...   \n",
              "2514  1.001332 -0.977803  0.246661  ...  0.662033 -0.280311  0.883489   \n",
              "2515  1.099018 -0.691899  0.258823  ...  0.430096 -0.236903  0.759944   \n",
              "2516  1.012891 -0.561905  0.234543  ...  0.346654 -0.200343  0.673241   \n",
              "2517  0.819644 -0.687954  0.209801  ...  0.580225 -0.264543  0.799892   \n",
              "2518  0.642136 -0.533772  0.157620  ...  0.501757 -0.228086  0.685720   \n",
              "\n",
              "            93        94        95        96        97        98        99  \n",
              "0     0.417928 -0.499790 -0.365881  0.530502 -0.317301 -0.114568  0.694621  \n",
              "1     0.111413 -0.121832 -0.099441  0.222590 -0.114414 -0.058468  0.405780  \n",
              "2     0.293952 -0.292783 -0.360393  0.440977 -0.314642 -0.251997  0.879024  \n",
              "3     0.133940 -0.113329 -0.064843  0.272767 -0.135443 -0.010178  0.352153  \n",
              "4     0.127017 -0.044245 -0.072742  0.209067 -0.104454 -0.027643  0.304154  \n",
              "...        ...       ...       ...       ...       ...       ...       ...  \n",
              "2514  0.045476  0.162004  0.199510  0.472871 -0.301088  0.042010  0.280037  \n",
              "2515  0.176301 -0.219436 -0.081227  0.261021 -0.081732 -0.015844  0.390747  \n",
              "2516  0.148986 -0.237537 -0.112944  0.190087 -0.046750 -0.026955  0.397573  \n",
              "2517  0.095529  0.071372  0.051180  0.291585 -0.155606  0.012360  0.315717  \n",
              "2518  0.090114  0.064214  0.026124  0.218525 -0.112070  0.005587  0.250781  \n",
              "\n",
              "[2519 rows x 100 columns]"
            ],
            "text/html": [
              "\n",
              "  <div id=\"df-c8108a60-fbb9-4f86-ab69-6a83e8772960\">\n",
              "    <div class=\"colab-df-container\">\n",
              "      <div>\n",
              "<style scoped>\n",
              "    .dataframe tbody tr th:only-of-type {\n",
              "        vertical-align: middle;\n",
              "    }\n",
              "\n",
              "    .dataframe tbody tr th {\n",
              "        vertical-align: top;\n",
              "    }\n",
              "\n",
              "    .dataframe thead th {\n",
              "        text-align: right;\n",
              "    }\n",
              "</style>\n",
              "<table border=\"1\" class=\"dataframe\">\n",
              "  <thead>\n",
              "    <tr style=\"text-align: right;\">\n",
              "      <th></th>\n",
              "      <th>0</th>\n",
              "      <th>1</th>\n",
              "      <th>2</th>\n",
              "      <th>3</th>\n",
              "      <th>4</th>\n",
              "      <th>5</th>\n",
              "      <th>6</th>\n",
              "      <th>7</th>\n",
              "      <th>8</th>\n",
              "      <th>9</th>\n",
              "      <th>...</th>\n",
              "      <th>90</th>\n",
              "      <th>91</th>\n",
              "      <th>92</th>\n",
              "      <th>93</th>\n",
              "      <th>94</th>\n",
              "      <th>95</th>\n",
              "      <th>96</th>\n",
              "      <th>97</th>\n",
              "      <th>98</th>\n",
              "      <th>99</th>\n",
              "    </tr>\n",
              "  </thead>\n",
              "  <tbody>\n",
              "    <tr>\n",
              "      <th>0</th>\n",
              "      <td>0.543152</td>\n",
              "      <td>-0.474838</td>\n",
              "      <td>-1.590685</td>\n",
              "      <td>-0.117498</td>\n",
              "      <td>-0.100035</td>\n",
              "      <td>-0.088057</td>\n",
              "      <td>-0.417259</td>\n",
              "      <td>2.085554</td>\n",
              "      <td>-1.631940</td>\n",
              "      <td>0.420533</td>\n",
              "      <td>...</td>\n",
              "      <td>0.608796</td>\n",
              "      <td>-0.392851</td>\n",
              "      <td>1.034701</td>\n",
              "      <td>0.417928</td>\n",
              "      <td>-0.499790</td>\n",
              "      <td>-0.365881</td>\n",
              "      <td>0.530502</td>\n",
              "      <td>-0.317301</td>\n",
              "      <td>-0.114568</td>\n",
              "      <td>0.694621</td>\n",
              "    </tr>\n",
              "    <tr>\n",
              "      <th>1</th>\n",
              "      <td>0.375676</td>\n",
              "      <td>-0.164515</td>\n",
              "      <td>-0.762357</td>\n",
              "      <td>0.076611</td>\n",
              "      <td>-0.097052</td>\n",
              "      <td>0.075910</td>\n",
              "      <td>-0.211070</td>\n",
              "      <td>0.969503</td>\n",
              "      <td>-0.612564</td>\n",
              "      <td>0.218435</td>\n",
              "      <td>...</td>\n",
              "      <td>0.338122</td>\n",
              "      <td>-0.198298</td>\n",
              "      <td>0.618516</td>\n",
              "      <td>0.111413</td>\n",
              "      <td>-0.121832</td>\n",
              "      <td>-0.099441</td>\n",
              "      <td>0.222590</td>\n",
              "      <td>-0.114414</td>\n",
              "      <td>-0.058468</td>\n",
              "      <td>0.405780</td>\n",
              "    </tr>\n",
              "    <tr>\n",
              "      <th>2</th>\n",
              "      <td>0.634623</td>\n",
              "      <td>-0.487159</td>\n",
              "      <td>-1.512009</td>\n",
              "      <td>0.008553</td>\n",
              "      <td>-0.111199</td>\n",
              "      <td>0.006033</td>\n",
              "      <td>-0.483153</td>\n",
              "      <td>2.090725</td>\n",
              "      <td>-1.320328</td>\n",
              "      <td>0.376740</td>\n",
              "      <td>...</td>\n",
              "      <td>0.654796</td>\n",
              "      <td>-0.404338</td>\n",
              "      <td>1.215353</td>\n",
              "      <td>0.293952</td>\n",
              "      <td>-0.292783</td>\n",
              "      <td>-0.360393</td>\n",
              "      <td>0.440977</td>\n",
              "      <td>-0.314642</td>\n",
              "      <td>-0.251997</td>\n",
              "      <td>0.879024</td>\n",
              "    </tr>\n",
              "    <tr>\n",
              "      <th>3</th>\n",
              "      <td>0.388568</td>\n",
              "      <td>-0.110772</td>\n",
              "      <td>-0.875813</td>\n",
              "      <td>0.020317</td>\n",
              "      <td>-0.088182</td>\n",
              "      <td>0.043812</td>\n",
              "      <td>-0.176177</td>\n",
              "      <td>0.970341</td>\n",
              "      <td>-0.715505</td>\n",
              "      <td>0.226798</td>\n",
              "      <td>...</td>\n",
              "      <td>0.412236</td>\n",
              "      <td>-0.227099</td>\n",
              "      <td>0.667700</td>\n",
              "      <td>0.133940</td>\n",
              "      <td>-0.113329</td>\n",
              "      <td>-0.064843</td>\n",
              "      <td>0.272767</td>\n",
              "      <td>-0.135443</td>\n",
              "      <td>-0.010178</td>\n",
              "      <td>0.352153</td>\n",
              "    </tr>\n",
              "    <tr>\n",
              "      <th>4</th>\n",
              "      <td>0.318853</td>\n",
              "      <td>-0.098652</td>\n",
              "      <td>-0.728615</td>\n",
              "      <td>-0.004456</td>\n",
              "      <td>-0.052695</td>\n",
              "      <td>0.017839</td>\n",
              "      <td>-0.157296</td>\n",
              "      <td>0.787827</td>\n",
              "      <td>-0.586874</td>\n",
              "      <td>0.164410</td>\n",
              "      <td>...</td>\n",
              "      <td>0.453045</td>\n",
              "      <td>-0.223019</td>\n",
              "      <td>0.671777</td>\n",
              "      <td>0.127017</td>\n",
              "      <td>-0.044245</td>\n",
              "      <td>-0.072742</td>\n",
              "      <td>0.209067</td>\n",
              "      <td>-0.104454</td>\n",
              "      <td>-0.027643</td>\n",
              "      <td>0.304154</td>\n",
              "    </tr>\n",
              "    <tr>\n",
              "      <th>...</th>\n",
              "      <td>...</td>\n",
              "      <td>...</td>\n",
              "      <td>...</td>\n",
              "      <td>...</td>\n",
              "      <td>...</td>\n",
              "      <td>...</td>\n",
              "      <td>...</td>\n",
              "      <td>...</td>\n",
              "      <td>...</td>\n",
              "      <td>...</td>\n",
              "      <td>...</td>\n",
              "      <td>...</td>\n",
              "      <td>...</td>\n",
              "      <td>...</td>\n",
              "      <td>...</td>\n",
              "      <td>...</td>\n",
              "      <td>...</td>\n",
              "      <td>...</td>\n",
              "      <td>...</td>\n",
              "      <td>...</td>\n",
              "      <td>...</td>\n",
              "    </tr>\n",
              "    <tr>\n",
              "      <th>2514</th>\n",
              "      <td>0.517925</td>\n",
              "      <td>0.002131</td>\n",
              "      <td>-1.364986</td>\n",
              "      <td>-0.185532</td>\n",
              "      <td>-0.067471</td>\n",
              "      <td>-0.069308</td>\n",
              "      <td>-0.110016</td>\n",
              "      <td>1.001332</td>\n",
              "      <td>-0.977803</td>\n",
              "      <td>0.246661</td>\n",
              "      <td>...</td>\n",
              "      <td>0.662033</td>\n",
              "      <td>-0.280311</td>\n",
              "      <td>0.883489</td>\n",
              "      <td>0.045476</td>\n",
              "      <td>0.162004</td>\n",
              "      <td>0.199510</td>\n",
              "      <td>0.472871</td>\n",
              "      <td>-0.301088</td>\n",
              "      <td>0.042010</td>\n",
              "      <td>0.280037</td>\n",
              "    </tr>\n",
              "    <tr>\n",
              "      <th>2515</th>\n",
              "      <td>0.399685</td>\n",
              "      <td>-0.119503</td>\n",
              "      <td>-0.821010</td>\n",
              "      <td>0.135167</td>\n",
              "      <td>-0.137346</td>\n",
              "      <td>0.140662</td>\n",
              "      <td>-0.217769</td>\n",
              "      <td>1.099018</td>\n",
              "      <td>-0.691899</td>\n",
              "      <td>0.258823</td>\n",
              "      <td>...</td>\n",
              "      <td>0.430096</td>\n",
              "      <td>-0.236903</td>\n",
              "      <td>0.759944</td>\n",
              "      <td>0.176301</td>\n",
              "      <td>-0.219436</td>\n",
              "      <td>-0.081227</td>\n",
              "      <td>0.261021</td>\n",
              "      <td>-0.081732</td>\n",
              "      <td>-0.015844</td>\n",
              "      <td>0.390747</td>\n",
              "    </tr>\n",
              "    <tr>\n",
              "      <th>2516</th>\n",
              "      <td>0.365934</td>\n",
              "      <td>-0.122759</td>\n",
              "      <td>-0.660062</td>\n",
              "      <td>0.201532</td>\n",
              "      <td>-0.150597</td>\n",
              "      <td>0.175995</td>\n",
              "      <td>-0.231826</td>\n",
              "      <td>1.012891</td>\n",
              "      <td>-0.561905</td>\n",
              "      <td>0.234543</td>\n",
              "      <td>...</td>\n",
              "      <td>0.346654</td>\n",
              "      <td>-0.200343</td>\n",
              "      <td>0.673241</td>\n",
              "      <td>0.148986</td>\n",
              "      <td>-0.237537</td>\n",
              "      <td>-0.112944</td>\n",
              "      <td>0.190087</td>\n",
              "      <td>-0.046750</td>\n",
              "      <td>-0.026955</td>\n",
              "      <td>0.397573</td>\n",
              "    </tr>\n",
              "    <tr>\n",
              "      <th>2517</th>\n",
              "      <td>0.416492</td>\n",
              "      <td>-0.043006</td>\n",
              "      <td>-0.964231</td>\n",
              "      <td>-0.054241</td>\n",
              "      <td>-0.056875</td>\n",
              "      <td>0.016375</td>\n",
              "      <td>-0.126387</td>\n",
              "      <td>0.819644</td>\n",
              "      <td>-0.687954</td>\n",
              "      <td>0.209801</td>\n",
              "      <td>...</td>\n",
              "      <td>0.580225</td>\n",
              "      <td>-0.264543</td>\n",
              "      <td>0.799892</td>\n",
              "      <td>0.095529</td>\n",
              "      <td>0.071372</td>\n",
              "      <td>0.051180</td>\n",
              "      <td>0.291585</td>\n",
              "      <td>-0.155606</td>\n",
              "      <td>0.012360</td>\n",
              "      <td>0.315717</td>\n",
              "    </tr>\n",
              "    <tr>\n",
              "      <th>2518</th>\n",
              "      <td>0.327535</td>\n",
              "      <td>-0.030220</td>\n",
              "      <td>-0.749503</td>\n",
              "      <td>-0.040883</td>\n",
              "      <td>-0.038018</td>\n",
              "      <td>0.013178</td>\n",
              "      <td>-0.104485</td>\n",
              "      <td>0.642136</td>\n",
              "      <td>-0.533772</td>\n",
              "      <td>0.157620</td>\n",
              "      <td>...</td>\n",
              "      <td>0.501757</td>\n",
              "      <td>-0.228086</td>\n",
              "      <td>0.685720</td>\n",
              "      <td>0.090114</td>\n",
              "      <td>0.064214</td>\n",
              "      <td>0.026124</td>\n",
              "      <td>0.218525</td>\n",
              "      <td>-0.112070</td>\n",
              "      <td>0.005587</td>\n",
              "      <td>0.250781</td>\n",
              "    </tr>\n",
              "  </tbody>\n",
              "</table>\n",
              "<p>2519 rows × 100 columns</p>\n",
              "</div>\n",
              "      <button class=\"colab-df-convert\" onclick=\"convertToInteractive('df-c8108a60-fbb9-4f86-ab69-6a83e8772960')\"\n",
              "              title=\"Convert this dataframe to an interactive table.\"\n",
              "              style=\"display:none;\">\n",
              "        \n",
              "  <svg xmlns=\"http://www.w3.org/2000/svg\" height=\"24px\"viewBox=\"0 0 24 24\"\n",
              "       width=\"24px\">\n",
              "    <path d=\"M0 0h24v24H0V0z\" fill=\"none\"/>\n",
              "    <path d=\"M18.56 5.44l.94 2.06.94-2.06 2.06-.94-2.06-.94-.94-2.06-.94 2.06-2.06.94zm-11 1L8.5 8.5l.94-2.06 2.06-.94-2.06-.94L8.5 2.5l-.94 2.06-2.06.94zm10 10l.94 2.06.94-2.06 2.06-.94-2.06-.94-.94-2.06-.94 2.06-2.06.94z\"/><path d=\"M17.41 7.96l-1.37-1.37c-.4-.4-.92-.59-1.43-.59-.52 0-1.04.2-1.43.59L10.3 9.45l-7.72 7.72c-.78.78-.78 2.05 0 2.83L4 21.41c.39.39.9.59 1.41.59.51 0 1.02-.2 1.41-.59l7.78-7.78 2.81-2.81c.8-.78.8-2.07 0-2.86zM5.41 20L4 18.59l7.72-7.72 1.47 1.35L5.41 20z\"/>\n",
              "  </svg>\n",
              "      </button>\n",
              "      \n",
              "  <style>\n",
              "    .colab-df-container {\n",
              "      display:flex;\n",
              "      flex-wrap:wrap;\n",
              "      gap: 12px;\n",
              "    }\n",
              "\n",
              "    .colab-df-convert {\n",
              "      background-color: #E8F0FE;\n",
              "      border: none;\n",
              "      border-radius: 50%;\n",
              "      cursor: pointer;\n",
              "      display: none;\n",
              "      fill: #1967D2;\n",
              "      height: 32px;\n",
              "      padding: 0 0 0 0;\n",
              "      width: 32px;\n",
              "    }\n",
              "\n",
              "    .colab-df-convert:hover {\n",
              "      background-color: #E2EBFA;\n",
              "      box-shadow: 0px 1px 2px rgba(60, 64, 67, 0.3), 0px 1px 3px 1px rgba(60, 64, 67, 0.15);\n",
              "      fill: #174EA6;\n",
              "    }\n",
              "\n",
              "    [theme=dark] .colab-df-convert {\n",
              "      background-color: #3B4455;\n",
              "      fill: #D2E3FC;\n",
              "    }\n",
              "\n",
              "    [theme=dark] .colab-df-convert:hover {\n",
              "      background-color: #434B5C;\n",
              "      box-shadow: 0px 1px 3px 1px rgba(0, 0, 0, 0.15);\n",
              "      filter: drop-shadow(0px 1px 2px rgba(0, 0, 0, 0.3));\n",
              "      fill: #FFFFFF;\n",
              "    }\n",
              "  </style>\n",
              "\n",
              "      <script>\n",
              "        const buttonEl =\n",
              "          document.querySelector('#df-c8108a60-fbb9-4f86-ab69-6a83e8772960 button.colab-df-convert');\n",
              "        buttonEl.style.display =\n",
              "          google.colab.kernel.accessAllowed ? 'block' : 'none';\n",
              "\n",
              "        async function convertToInteractive(key) {\n",
              "          const element = document.querySelector('#df-c8108a60-fbb9-4f86-ab69-6a83e8772960');\n",
              "          const dataTable =\n",
              "            await google.colab.kernel.invokeFunction('convertToInteractive',\n",
              "                                                     [key], {});\n",
              "          if (!dataTable) return;\n",
              "\n",
              "          const docLinkHtml = 'Like what you see? Visit the ' +\n",
              "            '<a target=\"_blank\" href=https://colab.research.google.com/notebooks/data_table.ipynb>data table notebook</a>'\n",
              "            + ' to learn more about interactive tables.';\n",
              "          element.innerHTML = '';\n",
              "          dataTable['output_type'] = 'display_data';\n",
              "          await google.colab.output.renderOutput(dataTable, element);\n",
              "          const docLink = document.createElement('div');\n",
              "          docLink.innerHTML = docLinkHtml;\n",
              "          element.appendChild(docLink);\n",
              "        }\n",
              "      </script>\n",
              "    </div>\n",
              "  </div>\n",
              "  "
            ]
          },
          "metadata": {},
          "execution_count": 216
        }
      ]
    },
    {
      "cell_type": "code",
      "source": [
        "test_features = []\n",
        "for ele in X_test['text']:\n",
        "  test_features.append(np.average(np.transpose(model[ele.split()]),axis=1))"
      ],
      "metadata": {
        "colab": {
          "base_uri": "https://localhost:8080/"
        },
        "id": "mHKAuvd2S0E0",
        "outputId": "46185b1c-6d6e-4259-af66-787fb3e8d1bf"
      },
      "execution_count": 133,
      "outputs": [
        {
          "output_type": "stream",
          "name": "stderr",
          "text": [
            "/usr/local/lib/python3.7/dist-packages/ipykernel_launcher.py:3: DeprecationWarning: Call to deprecated `__getitem__` (Method will be removed in 4.0.0, use self.wv.__getitem__() instead).\n",
            "  This is separate from the ipykernel package so we can avoid doing imports until\n"
          ]
        }
      ]
    },
    {
      "cell_type": "code",
      "source": [
        "# list to numpy array\n",
        "test_features = np.array(test_features)\n",
        "\n",
        "print(\"Test Data\")\n",
        "\n",
        "# numpy array to pandas dataframe\n",
        "df_test = pd.DataFrame(test_features)\n",
        "df_test"
      ],
      "metadata": {
        "colab": {
          "base_uri": "https://localhost:8080/",
          "height": 506
        },
        "id": "kD6L0zkFUj0V",
        "outputId": "09f330e6-19be-4d66-896b-1c3a685efca4"
      },
      "execution_count": 217,
      "outputs": [
        {
          "output_type": "stream",
          "name": "stdout",
          "text": [
            "Test Data\n"
          ]
        },
        {
          "output_type": "execute_result",
          "data": {
            "text/plain": [
              "            0         1         2         3         4         5         6   \\\n",
              "0     0.462388 -0.071301 -1.175730 -0.146009 -0.025926 -0.029549 -0.151913   \n",
              "1     0.551034 -0.027345 -1.476295 -0.252048 -0.006267 -0.084543 -0.127317   \n",
              "2     0.682003 -0.581143 -1.947197 -0.216980 -0.070619 -0.163573 -0.494157   \n",
              "3     0.743699 -0.400386 -2.011714 -0.228352 -0.061704 -0.160684 -0.405077   \n",
              "4     0.431699 -0.163205 -0.936407 -0.026650 -0.043559  0.017903 -0.191027   \n",
              "...        ...       ...       ...       ...       ...       ...       ...   \n",
              "1075  0.753460 -0.405436 -2.043983 -0.236463 -0.060888 -0.166613 -0.408703   \n",
              "1076  0.718133 -0.244773 -1.407063  0.427099 -0.398885  0.352656 -0.447960   \n",
              "1077  0.391744 -0.059399 -0.995554 -0.104431 -0.043432  0.007534 -0.120393   \n",
              "1078  0.659894 -0.046712 -1.532826 -0.052219 -0.168106  0.009120 -0.198048   \n",
              "1079  0.339216 -0.052653 -0.758117 -0.026558 -0.041191  0.022356 -0.127551   \n",
              "\n",
              "            7         8         9   ...        90        91        92  \\\n",
              "0     0.998285 -0.861383  0.255205  ...  0.618051 -0.281709  0.850921   \n",
              "1     1.088644 -1.065543  0.295179  ...  0.806459 -0.350243  1.040541   \n",
              "2     2.404702 -1.796731  0.449704  ...  0.674995 -0.462455  1.208670   \n",
              "3     2.210406 -1.680077  0.408173  ...  0.755060 -0.488946  1.305045   \n",
              "4     0.961564 -0.745054  0.261509  ...  0.503631 -0.288747  0.796734   \n",
              "...        ...       ...       ...  ...       ...       ...       ...   \n",
              "1075  2.239264 -1.707122  0.414015  ...  0.767715 -0.497300  1.323811   \n",
              "1076  2.164487 -1.258633  0.485924  ...  0.560913 -0.344171  1.237629   \n",
              "1077  0.848417 -0.748010  0.259622  ...  0.468657 -0.215684  0.640487   \n",
              "1078  1.342105 -1.124352  0.315290  ...  0.580789 -0.255621  0.874066   \n",
              "1079  0.715133 -0.560376  0.175211  ...  0.493452 -0.236923  0.706898   \n",
              "\n",
              "            93        94        95        96        97        98        99  \n",
              "0     0.131302  0.113780  0.070796  0.364353 -0.207334 -0.034069  0.392574  \n",
              "1     0.151116  0.206931  0.150462  0.465418 -0.266798 -0.004296  0.397669  \n",
              "2     0.354461 -0.364262 -0.395126  0.628881 -0.481992 -0.221232  0.904846  \n",
              "3     0.283314 -0.159843 -0.257226  0.632765 -0.481505 -0.185301  0.817787  \n",
              "4     0.148661 -0.057135 -0.105379  0.262847 -0.135868 -0.024989  0.447045  \n",
              "...        ...       ...       ...       ...       ...       ...       ...  \n",
              "1075  0.287628 -0.159891 -0.260324  0.643435 -0.489992 -0.186801  0.827646  \n",
              "1076  0.255320 -0.613077 -0.134705  0.504844 -0.159074 -0.008433  0.638325  \n",
              "1077  0.124751  0.045265  0.073763  0.317123 -0.147557 -0.004079  0.329879  \n",
              "1078  0.020125  0.043403  0.136039  0.522785 -0.329698  0.043808  0.410210  \n",
              "1079  0.117894  0.029267 -0.016175  0.214090 -0.099475 -0.017531  0.295064  \n",
              "\n",
              "[1080 rows x 100 columns]"
            ],
            "text/html": [
              "\n",
              "  <div id=\"df-2f3cf4b7-bc90-4307-b1b9-e81667353217\">\n",
              "    <div class=\"colab-df-container\">\n",
              "      <div>\n",
              "<style scoped>\n",
              "    .dataframe tbody tr th:only-of-type {\n",
              "        vertical-align: middle;\n",
              "    }\n",
              "\n",
              "    .dataframe tbody tr th {\n",
              "        vertical-align: top;\n",
              "    }\n",
              "\n",
              "    .dataframe thead th {\n",
              "        text-align: right;\n",
              "    }\n",
              "</style>\n",
              "<table border=\"1\" class=\"dataframe\">\n",
              "  <thead>\n",
              "    <tr style=\"text-align: right;\">\n",
              "      <th></th>\n",
              "      <th>0</th>\n",
              "      <th>1</th>\n",
              "      <th>2</th>\n",
              "      <th>3</th>\n",
              "      <th>4</th>\n",
              "      <th>5</th>\n",
              "      <th>6</th>\n",
              "      <th>7</th>\n",
              "      <th>8</th>\n",
              "      <th>9</th>\n",
              "      <th>...</th>\n",
              "      <th>90</th>\n",
              "      <th>91</th>\n",
              "      <th>92</th>\n",
              "      <th>93</th>\n",
              "      <th>94</th>\n",
              "      <th>95</th>\n",
              "      <th>96</th>\n",
              "      <th>97</th>\n",
              "      <th>98</th>\n",
              "      <th>99</th>\n",
              "    </tr>\n",
              "  </thead>\n",
              "  <tbody>\n",
              "    <tr>\n",
              "      <th>0</th>\n",
              "      <td>0.462388</td>\n",
              "      <td>-0.071301</td>\n",
              "      <td>-1.175730</td>\n",
              "      <td>-0.146009</td>\n",
              "      <td>-0.025926</td>\n",
              "      <td>-0.029549</td>\n",
              "      <td>-0.151913</td>\n",
              "      <td>0.998285</td>\n",
              "      <td>-0.861383</td>\n",
              "      <td>0.255205</td>\n",
              "      <td>...</td>\n",
              "      <td>0.618051</td>\n",
              "      <td>-0.281709</td>\n",
              "      <td>0.850921</td>\n",
              "      <td>0.131302</td>\n",
              "      <td>0.113780</td>\n",
              "      <td>0.070796</td>\n",
              "      <td>0.364353</td>\n",
              "      <td>-0.207334</td>\n",
              "      <td>-0.034069</td>\n",
              "      <td>0.392574</td>\n",
              "    </tr>\n",
              "    <tr>\n",
              "      <th>1</th>\n",
              "      <td>0.551034</td>\n",
              "      <td>-0.027345</td>\n",
              "      <td>-1.476295</td>\n",
              "      <td>-0.252048</td>\n",
              "      <td>-0.006267</td>\n",
              "      <td>-0.084543</td>\n",
              "      <td>-0.127317</td>\n",
              "      <td>1.088644</td>\n",
              "      <td>-1.065543</td>\n",
              "      <td>0.295179</td>\n",
              "      <td>...</td>\n",
              "      <td>0.806459</td>\n",
              "      <td>-0.350243</td>\n",
              "      <td>1.040541</td>\n",
              "      <td>0.151116</td>\n",
              "      <td>0.206931</td>\n",
              "      <td>0.150462</td>\n",
              "      <td>0.465418</td>\n",
              "      <td>-0.266798</td>\n",
              "      <td>-0.004296</td>\n",
              "      <td>0.397669</td>\n",
              "    </tr>\n",
              "    <tr>\n",
              "      <th>2</th>\n",
              "      <td>0.682003</td>\n",
              "      <td>-0.581143</td>\n",
              "      <td>-1.947197</td>\n",
              "      <td>-0.216980</td>\n",
              "      <td>-0.070619</td>\n",
              "      <td>-0.163573</td>\n",
              "      <td>-0.494157</td>\n",
              "      <td>2.404702</td>\n",
              "      <td>-1.796731</td>\n",
              "      <td>0.449704</td>\n",
              "      <td>...</td>\n",
              "      <td>0.674995</td>\n",
              "      <td>-0.462455</td>\n",
              "      <td>1.208670</td>\n",
              "      <td>0.354461</td>\n",
              "      <td>-0.364262</td>\n",
              "      <td>-0.395126</td>\n",
              "      <td>0.628881</td>\n",
              "      <td>-0.481992</td>\n",
              "      <td>-0.221232</td>\n",
              "      <td>0.904846</td>\n",
              "    </tr>\n",
              "    <tr>\n",
              "      <th>3</th>\n",
              "      <td>0.743699</td>\n",
              "      <td>-0.400386</td>\n",
              "      <td>-2.011714</td>\n",
              "      <td>-0.228352</td>\n",
              "      <td>-0.061704</td>\n",
              "      <td>-0.160684</td>\n",
              "      <td>-0.405077</td>\n",
              "      <td>2.210406</td>\n",
              "      <td>-1.680077</td>\n",
              "      <td>0.408173</td>\n",
              "      <td>...</td>\n",
              "      <td>0.755060</td>\n",
              "      <td>-0.488946</td>\n",
              "      <td>1.305045</td>\n",
              "      <td>0.283314</td>\n",
              "      <td>-0.159843</td>\n",
              "      <td>-0.257226</td>\n",
              "      <td>0.632765</td>\n",
              "      <td>-0.481505</td>\n",
              "      <td>-0.185301</td>\n",
              "      <td>0.817787</td>\n",
              "    </tr>\n",
              "    <tr>\n",
              "      <th>4</th>\n",
              "      <td>0.431699</td>\n",
              "      <td>-0.163205</td>\n",
              "      <td>-0.936407</td>\n",
              "      <td>-0.026650</td>\n",
              "      <td>-0.043559</td>\n",
              "      <td>0.017903</td>\n",
              "      <td>-0.191027</td>\n",
              "      <td>0.961564</td>\n",
              "      <td>-0.745054</td>\n",
              "      <td>0.261509</td>\n",
              "      <td>...</td>\n",
              "      <td>0.503631</td>\n",
              "      <td>-0.288747</td>\n",
              "      <td>0.796734</td>\n",
              "      <td>0.148661</td>\n",
              "      <td>-0.057135</td>\n",
              "      <td>-0.105379</td>\n",
              "      <td>0.262847</td>\n",
              "      <td>-0.135868</td>\n",
              "      <td>-0.024989</td>\n",
              "      <td>0.447045</td>\n",
              "    </tr>\n",
              "    <tr>\n",
              "      <th>...</th>\n",
              "      <td>...</td>\n",
              "      <td>...</td>\n",
              "      <td>...</td>\n",
              "      <td>...</td>\n",
              "      <td>...</td>\n",
              "      <td>...</td>\n",
              "      <td>...</td>\n",
              "      <td>...</td>\n",
              "      <td>...</td>\n",
              "      <td>...</td>\n",
              "      <td>...</td>\n",
              "      <td>...</td>\n",
              "      <td>...</td>\n",
              "      <td>...</td>\n",
              "      <td>...</td>\n",
              "      <td>...</td>\n",
              "      <td>...</td>\n",
              "      <td>...</td>\n",
              "      <td>...</td>\n",
              "      <td>...</td>\n",
              "      <td>...</td>\n",
              "    </tr>\n",
              "    <tr>\n",
              "      <th>1075</th>\n",
              "      <td>0.753460</td>\n",
              "      <td>-0.405436</td>\n",
              "      <td>-2.043983</td>\n",
              "      <td>-0.236463</td>\n",
              "      <td>-0.060888</td>\n",
              "      <td>-0.166613</td>\n",
              "      <td>-0.408703</td>\n",
              "      <td>2.239264</td>\n",
              "      <td>-1.707122</td>\n",
              "      <td>0.414015</td>\n",
              "      <td>...</td>\n",
              "      <td>0.767715</td>\n",
              "      <td>-0.497300</td>\n",
              "      <td>1.323811</td>\n",
              "      <td>0.287628</td>\n",
              "      <td>-0.159891</td>\n",
              "      <td>-0.260324</td>\n",
              "      <td>0.643435</td>\n",
              "      <td>-0.489992</td>\n",
              "      <td>-0.186801</td>\n",
              "      <td>0.827646</td>\n",
              "    </tr>\n",
              "    <tr>\n",
              "      <th>1076</th>\n",
              "      <td>0.718133</td>\n",
              "      <td>-0.244773</td>\n",
              "      <td>-1.407063</td>\n",
              "      <td>0.427099</td>\n",
              "      <td>-0.398885</td>\n",
              "      <td>0.352656</td>\n",
              "      <td>-0.447960</td>\n",
              "      <td>2.164487</td>\n",
              "      <td>-1.258633</td>\n",
              "      <td>0.485924</td>\n",
              "      <td>...</td>\n",
              "      <td>0.560913</td>\n",
              "      <td>-0.344171</td>\n",
              "      <td>1.237629</td>\n",
              "      <td>0.255320</td>\n",
              "      <td>-0.613077</td>\n",
              "      <td>-0.134705</td>\n",
              "      <td>0.504844</td>\n",
              "      <td>-0.159074</td>\n",
              "      <td>-0.008433</td>\n",
              "      <td>0.638325</td>\n",
              "    </tr>\n",
              "    <tr>\n",
              "      <th>1077</th>\n",
              "      <td>0.391744</td>\n",
              "      <td>-0.059399</td>\n",
              "      <td>-0.995554</td>\n",
              "      <td>-0.104431</td>\n",
              "      <td>-0.043432</td>\n",
              "      <td>0.007534</td>\n",
              "      <td>-0.120393</td>\n",
              "      <td>0.848417</td>\n",
              "      <td>-0.748010</td>\n",
              "      <td>0.259622</td>\n",
              "      <td>...</td>\n",
              "      <td>0.468657</td>\n",
              "      <td>-0.215684</td>\n",
              "      <td>0.640487</td>\n",
              "      <td>0.124751</td>\n",
              "      <td>0.045265</td>\n",
              "      <td>0.073763</td>\n",
              "      <td>0.317123</td>\n",
              "      <td>-0.147557</td>\n",
              "      <td>-0.004079</td>\n",
              "      <td>0.329879</td>\n",
              "    </tr>\n",
              "    <tr>\n",
              "      <th>1078</th>\n",
              "      <td>0.659894</td>\n",
              "      <td>-0.046712</td>\n",
              "      <td>-1.532826</td>\n",
              "      <td>-0.052219</td>\n",
              "      <td>-0.168106</td>\n",
              "      <td>0.009120</td>\n",
              "      <td>-0.198048</td>\n",
              "      <td>1.342105</td>\n",
              "      <td>-1.124352</td>\n",
              "      <td>0.315290</td>\n",
              "      <td>...</td>\n",
              "      <td>0.580789</td>\n",
              "      <td>-0.255621</td>\n",
              "      <td>0.874066</td>\n",
              "      <td>0.020125</td>\n",
              "      <td>0.043403</td>\n",
              "      <td>0.136039</td>\n",
              "      <td>0.522785</td>\n",
              "      <td>-0.329698</td>\n",
              "      <td>0.043808</td>\n",
              "      <td>0.410210</td>\n",
              "    </tr>\n",
              "    <tr>\n",
              "      <th>1079</th>\n",
              "      <td>0.339216</td>\n",
              "      <td>-0.052653</td>\n",
              "      <td>-0.758117</td>\n",
              "      <td>-0.026558</td>\n",
              "      <td>-0.041191</td>\n",
              "      <td>0.022356</td>\n",
              "      <td>-0.127551</td>\n",
              "      <td>0.715133</td>\n",
              "      <td>-0.560376</td>\n",
              "      <td>0.175211</td>\n",
              "      <td>...</td>\n",
              "      <td>0.493452</td>\n",
              "      <td>-0.236923</td>\n",
              "      <td>0.706898</td>\n",
              "      <td>0.117894</td>\n",
              "      <td>0.029267</td>\n",
              "      <td>-0.016175</td>\n",
              "      <td>0.214090</td>\n",
              "      <td>-0.099475</td>\n",
              "      <td>-0.017531</td>\n",
              "      <td>0.295064</td>\n",
              "    </tr>\n",
              "  </tbody>\n",
              "</table>\n",
              "<p>1080 rows × 100 columns</p>\n",
              "</div>\n",
              "      <button class=\"colab-df-convert\" onclick=\"convertToInteractive('df-2f3cf4b7-bc90-4307-b1b9-e81667353217')\"\n",
              "              title=\"Convert this dataframe to an interactive table.\"\n",
              "              style=\"display:none;\">\n",
              "        \n",
              "  <svg xmlns=\"http://www.w3.org/2000/svg\" height=\"24px\"viewBox=\"0 0 24 24\"\n",
              "       width=\"24px\">\n",
              "    <path d=\"M0 0h24v24H0V0z\" fill=\"none\"/>\n",
              "    <path d=\"M18.56 5.44l.94 2.06.94-2.06 2.06-.94-2.06-.94-.94-2.06-.94 2.06-2.06.94zm-11 1L8.5 8.5l.94-2.06 2.06-.94-2.06-.94L8.5 2.5l-.94 2.06-2.06.94zm10 10l.94 2.06.94-2.06 2.06-.94-2.06-.94-.94-2.06-.94 2.06-2.06.94z\"/><path d=\"M17.41 7.96l-1.37-1.37c-.4-.4-.92-.59-1.43-.59-.52 0-1.04.2-1.43.59L10.3 9.45l-7.72 7.72c-.78.78-.78 2.05 0 2.83L4 21.41c.39.39.9.59 1.41.59.51 0 1.02-.2 1.41-.59l7.78-7.78 2.81-2.81c.8-.78.8-2.07 0-2.86zM5.41 20L4 18.59l7.72-7.72 1.47 1.35L5.41 20z\"/>\n",
              "  </svg>\n",
              "      </button>\n",
              "      \n",
              "  <style>\n",
              "    .colab-df-container {\n",
              "      display:flex;\n",
              "      flex-wrap:wrap;\n",
              "      gap: 12px;\n",
              "    }\n",
              "\n",
              "    .colab-df-convert {\n",
              "      background-color: #E8F0FE;\n",
              "      border: none;\n",
              "      border-radius: 50%;\n",
              "      cursor: pointer;\n",
              "      display: none;\n",
              "      fill: #1967D2;\n",
              "      height: 32px;\n",
              "      padding: 0 0 0 0;\n",
              "      width: 32px;\n",
              "    }\n",
              "\n",
              "    .colab-df-convert:hover {\n",
              "      background-color: #E2EBFA;\n",
              "      box-shadow: 0px 1px 2px rgba(60, 64, 67, 0.3), 0px 1px 3px 1px rgba(60, 64, 67, 0.15);\n",
              "      fill: #174EA6;\n",
              "    }\n",
              "\n",
              "    [theme=dark] .colab-df-convert {\n",
              "      background-color: #3B4455;\n",
              "      fill: #D2E3FC;\n",
              "    }\n",
              "\n",
              "    [theme=dark] .colab-df-convert:hover {\n",
              "      background-color: #434B5C;\n",
              "      box-shadow: 0px 1px 3px 1px rgba(0, 0, 0, 0.15);\n",
              "      filter: drop-shadow(0px 1px 2px rgba(0, 0, 0, 0.3));\n",
              "      fill: #FFFFFF;\n",
              "    }\n",
              "  </style>\n",
              "\n",
              "      <script>\n",
              "        const buttonEl =\n",
              "          document.querySelector('#df-2f3cf4b7-bc90-4307-b1b9-e81667353217 button.colab-df-convert');\n",
              "        buttonEl.style.display =\n",
              "          google.colab.kernel.accessAllowed ? 'block' : 'none';\n",
              "\n",
              "        async function convertToInteractive(key) {\n",
              "          const element = document.querySelector('#df-2f3cf4b7-bc90-4307-b1b9-e81667353217');\n",
              "          const dataTable =\n",
              "            await google.colab.kernel.invokeFunction('convertToInteractive',\n",
              "                                                     [key], {});\n",
              "          if (!dataTable) return;\n",
              "\n",
              "          const docLinkHtml = 'Like what you see? Visit the ' +\n",
              "            '<a target=\"_blank\" href=https://colab.research.google.com/notebooks/data_table.ipynb>data table notebook</a>'\n",
              "            + ' to learn more about interactive tables.';\n",
              "          element.innerHTML = '';\n",
              "          dataTable['output_type'] = 'display_data';\n",
              "          await google.colab.output.renderOutput(dataTable, element);\n",
              "          const docLink = document.createElement('div');\n",
              "          docLink.innerHTML = docLinkHtml;\n",
              "          element.appendChild(docLink);\n",
              "        }\n",
              "      </script>\n",
              "    </div>\n",
              "  </div>\n",
              "  "
            ]
          },
          "metadata": {},
          "execution_count": 217
        }
      ]
    },
    {
      "cell_type": "markdown",
      "source": [
        "**Model Training**\n",
        "\n",
        "Now we will train the data on a list of models"
      ],
      "metadata": {
        "id": "wdpGbAGoVJW8"
      }
    },
    {
      "cell_type": "code",
      "source": [
        "# importing packages required for model training\n",
        "from sklearn.pipeline import make_pipeline\n",
        "from sklearn.preprocessing import MinMaxScaler\n",
        "from sklearn.naive_bayes import MultinomialNB\n",
        "from sklearn.svm import SVC\n",
        "\n",
        "# list of models used for training\n",
        "training_models = [SVC(),MultinomialNB()]\n",
        "trained_models = []\n",
        "\n",
        "for model in training_models:\n",
        "  clf = make_pipeline(MinMaxScaler(), model)\n",
        "  trained_models.append(clf.fit(df_train, y_train))"
      ],
      "metadata": {
        "id": "5K1cz1IaUmTf"
      },
      "execution_count": 218,
      "outputs": []
    },
    {
      "cell_type": "markdown",
      "source": [
        "**Model peformance Evaluation**"
      ],
      "metadata": {
        "id": "b6TgHtYQcdQ7"
      }
    },
    {
      "cell_type": "code",
      "source": [
        "model_selecton ={}\n",
        "for ele in trained_models:\n",
        "  model_selecton[str(ele[1])] = ele\n",
        "\n",
        "model_selecton"
      ],
      "metadata": {
        "colab": {
          "base_uri": "https://localhost:8080/"
        },
        "id": "wLbW6xu1eDDm",
        "outputId": "41dc5323-f250-4fd0-889f-7400bf55ff68"
      },
      "execution_count": 225,
      "outputs": [
        {
          "output_type": "execute_result",
          "data": {
            "text/plain": [
              "{'MultinomialNB()': Pipeline(steps=[('minmaxscaler', MinMaxScaler()),\n",
              "                 ('multinomialnb', MultinomialNB())]),\n",
              " 'SVC()': Pipeline(steps=[('minmaxscaler', MinMaxScaler()), ('svc', SVC())])}"
            ]
          },
          "metadata": {},
          "execution_count": 225
        }
      ]
    },
    {
      "cell_type": "code",
      "source": [
        "from sklearn.metrics import accuracy_score\n",
        "from sklearn.metrics import confusion_matrix\n",
        "from sklearn.metrics import classification_report\n",
        "\n",
        "\n",
        "def model_performance_eval(model):\n",
        "  y_pred = model_selecton[model].predict(df_test)\n",
        "  acc = accuracy_score(y_pred, y_test)\n",
        "  print(\"*****************************************************\")\n",
        "  print(\"Model Accuracy\")\n",
        "  print(acc)\n",
        "  print(\"*****************************************************\")\n",
        "  cm = confusion_matrix(y_pred, y_test)\n",
        "  print(\"Model Confusion Matrix\")\n",
        "  print(cm)\n",
        "  print(\"*****************************************************\")\n",
        "  cr = classification_report(y_pred, y_test)\n",
        "  print(\"Model Classification Report\")\n",
        "  print(cr)\n",
        "\n",
        "list = ['MultinomialNB()', 'SVC()' ]\n",
        "model = input(\"Enter the model name: \")\n",
        "model_performance_eval(model)"
      ],
      "metadata": {
        "colab": {
          "base_uri": "https://localhost:8080/"
        },
        "id": "hYWeAnfDWp5W",
        "outputId": "a33b4487-1a5a-4338-ec0c-22e9312d4bd8"
      },
      "execution_count": 231,
      "outputs": [
        {
          "output_type": "stream",
          "name": "stdout",
          "text": [
            "Enter the model name: SVC()\n",
            "*****************************************************\n",
            "Model Accuracy\n",
            "0.8305555555555556\n",
            "*****************************************************\n",
            "Model Confusion Matrix\n",
            "[[228   3   1   7]\n",
            " [  3 216  25  13]\n",
            " [  9  36 108  15]\n",
            " [ 17   9  45 345]]\n",
            "*****************************************************\n",
            "Model Classification Report\n",
            "              precision    recall  f1-score   support\n",
            "\n",
            "   art_music       0.89      0.95      0.92       239\n",
            "        food       0.82      0.84      0.83       257\n",
            "     history       0.60      0.64      0.62       168\n",
            "      travel       0.91      0.83      0.87       416\n",
            "\n",
            "    accuracy                           0.83      1080\n",
            "   macro avg       0.80      0.82      0.81      1080\n",
            "weighted avg       0.83      0.83      0.83      1080\n",
            "\n"
          ]
        }
      ]
    }
  ]
}